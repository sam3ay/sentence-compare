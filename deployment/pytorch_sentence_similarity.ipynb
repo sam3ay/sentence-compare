{
 "cells": [
  {
   "cell_type": "markdown",
   "metadata": {},
   "source": [
    "# Deploying A Sentence-Embedding Model"
   ]
  },
  {
   "cell_type": "markdown",
   "metadata": {},
   "source": [
    "## Contents\n",
    "\n",
    "1. [Setup](#Setup)\n",
    "2. [Deploy](#Deploy)\n",
    "3. [Evaluate](#Evaluate)\n",
    "4. [Update](#UPDATE)"
   ]
  },
  {
   "cell_type": "markdown",
   "metadata": {},
   "source": [
    "# Setup\n",
    "\n",
    "- Load environmental variables\n",
    "- Create Sagemaker Session\n",
    "- Define S3 Bucket, path and model name\n",
    "- Provide IAM role"
   ]
  },
  {
   "cell_type": "code",
   "execution_count": null,
   "metadata": {},
   "outputs": [],
   "source": [
    "%load_ext dotenv\n",
    "import json\n",
    "import os\n",
    "import sagemaker\n",
    "from sagemaker.predictor import RealTimePredictor, json_serializer, json_deserializer\n",
    "from sagemaker.pytorch import PyTorchModel\n",
    "\n",
    "%dotenv -v\n",
    "\n",
    "sagemaker_session = sagemaker.Session()\n",
    "\n",
    "bucket = os.getenv(\"S3_BUCKET\")\n",
    "model_location = f\"{bucket}{os.getenv('MODEL_PATH')}\"               # path to model data\n",
    "entry = os.getenv(\"ENTRY_POINT\")                                    # Python file to execute\n",
    "source = os.getenv(\"SOURCE_DIR\")                                    # Source for code\n",
    "version = os.getenv(\"FRAMEWORK\")                                    # Pytorch Version\n",
    "role = sagemaker.get_execution_role()                               # IAM role\n",
    "py_ver = os.getenv(\"PY_VER\")\n",
    "\n",
    "# git_conf = {'repo': 'https://github.com/sam3ay/sentence-compare.git', 'branch': 'code'}\n",
    "git_config = {'repo': os.getenv(\"REPO\"), 'branch': os.getenv(\"BRANCH\")}"
   ]
  },
  {
   "cell_type": "markdown",
   "metadata": {},
   "source": [
    "# Deploy\n",
    "\n",
    "Provide custom hosting functions:\n",
    "- input_fn: Deserializes input data\n",
    "- model_fn: Loads pytorch model\n",
    "- predict_fn: run inference with input data\n",
    "- output_fn: Serializes results of predict_fn\n",
    "- predictor_cls: Creates the predictor with the endpoint name"
   ]
  },
  {
   "cell_type": "code",
   "execution_count": null,
   "metadata": {},
   "outputs": [],
   "source": [
    "class JSONPredictor(RealTimePredictor):\n",
    "    \"\"\"Serializes and deserializes json\n",
    "    \"\"\"\n",
    "    def __init__(self, endpoint_name, sagemaker_session):\n",
    "        super(JSONPredictor, self).__init__(endpoint_name, sagemaker_session, json_serializer, json_deserializer)"
   ]
  },
  {
   "cell_type": "code",
   "execution_count": null,
   "metadata": {},
   "outputs": [],
   "source": [
    "model = PyTorchModel(model_data=model_location,\n",
    "                     role=role,\n",
    "                     framework_version=version,\n",
    "                     entry_point=entry,\n",
    "                     source_dir=source,\n",
    "                     predictor_cls=JSONPredictor,\n",
    "                     git_config=git_config,\n",
    "                     py_version=\"py3\")"
   ]
  },
  {
   "cell_type": "code",
   "execution_count": null,
   "metadata": {},
   "outputs": [],
   "source": [
    "predictor = model.deploy(initial_instance_count=1,\n",
    "                         instance_type='ml.m5.xlarge',\n",
    "                         endpoint_name=\"sentence-similarity\")"
   ]
  },
  {
   "cell_type": "markdown",
   "metadata": {},
   "source": [
    "# Evaluate\n",
    "\n",
    "Determine Textual Similarity"
   ]
  },
  {
   "cell_type": "code",
   "execution_count": null,
   "metadata": {},
   "outputs": [],
   "source": [
    "address = {\n",
    "    \"query\": [\"Speak to people in a formal way.\"],\n",
    "    \"corpus\": [\n",
    "        \"the particulars of the place where someone lives or an organization is situated.\",\n",
    "        \"a formal speech delivered to an audience.\",\n",
    "        \"write the name and address of the intended recipient on (an envelope, letter, or package).\",\n",
    "        \"speak to (a person or an assembly), typically in a formal way.\",\n",
    "    ],\n",
    "}\n",
    "\n",
    "response = predictor.predict(address)\n",
    "print(response)"
   ]
  },
  {
   "cell_type": "code",
   "execution_count": null,
   "metadata": {},
   "outputs": [],
   "source": [
    "sagemaker_session.delete_endpoint(predictor.endpoint)"
   ]
  }
 ],
 "metadata": {
  "instance_type": "ml.t3.medium",
  "kernelspec": {
   "display_name": "Python 3 (PyTorch CPU Optimized)",
   "language": "python",
   "name": "python3__SAGEMAKER_INTERNAL__arn:aws:sagemaker:us-east-1:081325390199:image/pytorch-1.4-cpu-py36"
  },
  "language_info": {
   "codemirror_mode": {
    "name": "ipython",
    "version": 3
   },
   "file_extension": ".py",
   "mimetype": "text/x-python",
   "name": "python",
   "nbconvert_exporter": "python",
   "pygments_lexer": "ipython3",
   "version": "3.6.6"
  }
 },
 "nbformat": 4,
 "nbformat_minor": 4
}
